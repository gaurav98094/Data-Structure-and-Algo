{
 "cells": [
  {
   "cell_type": "markdown",
   "source": [
    "# Hashmap"
   ],
   "metadata": {}
  },
  {
   "cell_type": "code",
   "execution_count": 11,
   "source": [
    "class MapNode:\r\n",
    "    def __init__(self,key,value):\r\n",
    "        self.key = key\r\n",
    "        self.value = value\r\n",
    "        self.next = None\r\n",
    "\r\n",
    "class Map:\r\n",
    "    def __init__(self):\r\n",
    "        self.bucketSize = 10\r\n",
    "        self.buckets = [None for i in range(self.bucketSize)]\r\n",
    "        self.count = 0\r\n",
    "    \r\n",
    "    def size(self):\r\n",
    "        return self.count\r\n",
    "\r\n",
    "    def getBucketIndex(self,hc):\r\n",
    "        return abs(hc) % self.bucketSize\r\n",
    "\r\n",
    "    def insert(self,key,value):\r\n",
    "        hc = hash(key)\r\n",
    "        index = self.getBucketIndex(hc)\r\n",
    "\r\n",
    "        head = self.buckets[index]\r\n",
    "        \r\n",
    "        while head is not None:\r\n",
    "            if head.key == key:\r\n",
    "                head.value = value\r\n",
    "                return\r\n",
    "            head = head.next\r\n",
    "        \r\n",
    "        newNode = MapNode(key,value)\r\n",
    "        newNode.next = self.buckets[index]\r\n",
    "        self.buckets[index] = newNode\r\n",
    "        self.count+=1\r\n",
    "\r\n",
    "    def get_value(self,key):\r\n",
    "        hc = hash(key)\r\n",
    "        index = self.getBucketIndex(hc)\r\n",
    "\r\n",
    "        head = self.buckets[index]\r\n",
    "\r\n",
    "        while head is not None:\r\n",
    "            if head.key==key:\r\n",
    "                return head.value\r\n",
    "            head = head.next\r\n",
    "        \r\n",
    "        return None\r\n",
    "    \r\n",
    "    def remove(self,key):\r\n",
    "        hc = hash(key)\r\n",
    "        index = self.getBucketIndex(hc)\r\n",
    "\r\n",
    "        prev = None\r\n",
    "        head = self.buckets[index]\r\n",
    "        while head is not None:\r\n",
    "            if head.key == key:\r\n",
    "                if prev==None:\r\n",
    "                    self.buckets[index]=head.next\r\n",
    "                else:\r\n",
    "                    prev.next = head.next\r\n",
    "                return head.value\r\n",
    "\r\n",
    "            head = head.next\r\n",
    "            self.count- = 1\r\n",
    "\r\n",
    "        return None"
   ],
   "outputs": [],
   "metadata": {}
  },
  {
   "cell_type": "code",
   "execution_count": 13,
   "source": [
    "# Testing Time\r\n",
    "\r\n",
    "m = Map()\r\n",
    "m.insert('Gaurav',10)\r\n",
    "print(m.size())\r\n",
    "\r\n",
    "print(\"Value of Gaurav : \",m.get_value('Gaurav'))\r\n",
    "\r\n",
    "m.insert('Kandel',2)\r\n",
    "print(m.size())\r\n",
    "\r\n",
    "print(\"Remove Kandel : \",m.remove('Kandel'))\r\n",
    "\r\n",
    "m.insert('Gaurav',1)\r\n",
    "print(m.size())\r\n",
    "\r\n",
    "print(\"Value of Gaurav : \",m.get_value('Gaurav'))\r\n",
    "print(\"Value of Kandel : \",m.get_value('Kandel'))\r\n",
    "print(\"Value of GK : \",m.get_value('GK'))"
   ],
   "outputs": [
    {
     "output_type": "stream",
     "name": "stdout",
     "text": [
      "1\n",
      "Value of Gaurav :  10\n",
      "2\n",
      "Remove Kandel :  2\n",
      "2\n",
      "Value of Gaurav :  1\n",
      "Value of Kandel :  None\n",
      "Value of GK :  None\n"
     ]
    }
   ],
   "metadata": {}
  },
  {
   "cell_type": "markdown",
   "source": [
    "# Time Complexity\r\n",
    "\r\n",
    "- Insert : calc hash code + iterate over LL ---> Worst Case : O(n)but generally O(L)  (most of time L is constant) i.e O(L) <<< O(N)\r\n",
    "- Remove : calc hash code + iterate over LL ---> Worst Case : O(n)but generally O(L)  (most of time L is constant) i.e O(L) <<< O(N)\r\n",
    "- Search (get_value) : calc hash code + iterate over LL ---> Worst Case : O(n)but generally O(L)  (most of time L is constant) i.e O(L) <<< O(N)\r\n",
    "\r\n",
    "\r\n",
    "\r\n",
    "\r\n",
    "N/L = Load Factor = Make sure load factor less than 0.7 by making sure u choose good hashcode and hash function."
   ],
   "metadata": {}
  },
  {
   "cell_type": "code",
   "execution_count": null,
   "source": [],
   "outputs": [],
   "metadata": {}
  }
 ],
 "metadata": {
  "orig_nbformat": 4,
  "language_info": {
   "name": "python",
   "version": "3.9.4",
   "mimetype": "text/x-python",
   "codemirror_mode": {
    "name": "ipython",
    "version": 3
   },
   "pygments_lexer": "ipython3",
   "nbconvert_exporter": "python",
   "file_extension": ".py"
  },
  "kernelspec": {
   "name": "python3",
   "display_name": "Python 3.9.4 64-bit"
  },
  "interpreter": {
   "hash": "c569cd2e17f62341e0f08a54f9a867c3c0d3a6f67454072d7de41a8b5dff8343"
  }
 },
 "nbformat": 4,
 "nbformat_minor": 2
}